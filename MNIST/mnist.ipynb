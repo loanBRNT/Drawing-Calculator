{
 "cells": [
  {
   "cell_type": "code",
   "execution_count": 1,
   "metadata": {
    "collapsed": true
   },
   "outputs": [],
   "source": [
    "import numpy as np\n",
    "import matplotlib.pyplot as plt\n",
    "from tensorflow import keras"
   ]
  },
  {
   "cell_type": "code",
   "execution_count": 2,
   "outputs": [
    {
     "name": "stdout",
     "output_type": "stream",
     "text": [
      "trainset: (60000, 28, 28)\n",
      "testset: (10000, 28, 28)\n"
     ]
    }
   ],
   "source": [
    "# Chargement des données MNIST\n",
    "(X_train, y_train) , (X_test, y_test) = keras.datasets.mnist.load_data()\n",
    "\n",
    "print('trainset:', X_train.shape) # 60,000 images\n",
    "print('testset:', X_test.shape) # 10,000 images\n",
    "\n",
    "# Normalisation des données\n",
    "X_train = X_train / 255\n",
    "X_test = X_test / 255"
   ],
   "metadata": {
    "collapsed": false
   }
  },
  {
   "cell_type": "code",
   "execution_count": 3,
   "outputs": [
    {
     "data": {
      "text/plain": "\"\\n# Configuration des couches du réseau\\nmodel = keras.Sequential([\\n    keras.layers.Flatten(input_shape=(28, 28)),\\n    keras.layers.Dense(128, activation='relu'),\\n    keras.layers.Dense(128, activation='relu'),\\n    keras.layers.Dense(10)\\n])\\n\""
     },
     "execution_count": 3,
     "metadata": {},
     "output_type": "execute_result"
    }
   ],
   "source": [
    "'''\n",
    "# Configuration des couches du réseau\n",
    "model = keras.Sequential([\n",
    "    keras.layers.Flatten(input_shape=(28, 28)),\n",
    "    keras.layers.Dense(128, activation='relu'),\n",
    "    keras.layers.Dense(128, activation='relu'),\n",
    "    keras.layers.Dense(10)\n",
    "])\n",
    "'''\n"
   ],
   "metadata": {
    "collapsed": false
   }
  },
  {
   "cell_type": "code",
   "execution_count": 4,
   "outputs": [
    {
     "data": {
      "text/plain": "\"\\n# Compilation du modele\\nmodel.compile(optimizer='adam',\\n              loss= keras.losses.SparseCategoricalCrossentropy(from_logits=True),\\n              metrics=['accuracy'])\\n\\n# Entrainement du modele\\nmodel.fit(X_train, y_train, epochs=10)\\n\""
     },
     "execution_count": 4,
     "metadata": {},
     "output_type": "execute_result"
    }
   ],
   "source": [
    "'''\n",
    "# Compilation du modele\n",
    "model.compile(optimizer='adam',\n",
    "              loss= keras.losses.SparseCategoricalCrossentropy(from_logits=True),\n",
    "              metrics=['accuracy'])\n",
    "\n",
    "# Entrainement du modele\n",
    "model.fit(X_train, y_train, epochs=10)\n",
    "'''"
   ],
   "metadata": {
    "collapsed": false
   }
  },
  {
   "cell_type": "code",
   "execution_count": 5,
   "outputs": [
    {
     "data": {
      "text/plain": "\"\\n# Evaluation du modele\\ntest_loss, test_acc = model.evaluate(X_test,  y_test)\\nprint('Test accuracy:', test_acc)\\n\""
     },
     "execution_count": 5,
     "metadata": {},
     "output_type": "execute_result"
    }
   ],
   "source": [
    "'''\n",
    "# Evaluation du modele\n",
    "test_loss, test_acc = model.evaluate(X_test,  y_test)\n",
    "print('Test accuracy:', test_acc)\n",
    "'''"
   ],
   "metadata": {
    "collapsed": false
   }
  },
  {
   "cell_type": "markdown",
   "source": [
    "### On va essayer avec SkLearn"
   ],
   "metadata": {
    "collapsed": false
   }
  },
  {
   "cell_type": "code",
   "execution_count": 6,
   "outputs": [],
   "source": [
    "from sklearn.neural_network import MLPClassifier\n",
    "import pickle"
   ],
   "metadata": {
    "collapsed": false
   }
  },
  {
   "cell_type": "code",
   "execution_count": 7,
   "outputs": [
    {
     "name": "stdout",
     "output_type": "stream",
     "text": [
      "Iteration 1, loss = 0.38787161\n",
      "Validation score: 0.946000\n",
      "Iteration 2, loss = 0.14835132\n",
      "Validation score: 0.961500\n",
      "Iteration 3, loss = 0.10448010\n",
      "Validation score: 0.965833\n",
      "Iteration 4, loss = 0.08106915\n",
      "Validation score: 0.972667\n",
      "Iteration 5, loss = 0.06229915\n",
      "Validation score: 0.973500\n",
      "Iteration 6, loss = 0.05003816\n",
      "Validation score: 0.974333\n",
      "Iteration 7, loss = 0.04320076\n",
      "Validation score: 0.972167\n",
      "Iteration 8, loss = 0.03368042\n",
      "Validation score: 0.974500\n",
      "Iteration 9, loss = 0.02902907\n",
      "Validation score: 0.975000\n",
      "Iteration 10, loss = 0.02472641\n",
      "Validation score: 0.977167\n",
      "Iteration 11, loss = 0.02001074\n",
      "Validation score: 0.977333\n",
      "Iteration 12, loss = 0.01655776\n",
      "Validation score: 0.977333\n",
      "Iteration 13, loss = 0.01359672\n",
      "Validation score: 0.977667\n",
      "Iteration 14, loss = 0.01157902\n",
      "Validation score: 0.976667\n",
      "Iteration 15, loss = 0.01114136\n",
      "Validation score: 0.978500\n",
      "Iteration 16, loss = 0.00873192\n",
      "Validation score: 0.978667\n",
      "Iteration 17, loss = 0.00732500\n",
      "Validation score: 0.977000\n",
      "Iteration 18, loss = 0.00741185\n",
      "Validation score: 0.973333\n",
      "Iteration 19, loss = 0.00896911\n",
      "Validation score: 0.976333\n",
      "Iteration 20, loss = 0.01103096\n",
      "Validation score: 0.976333\n",
      "Iteration 21, loss = 0.00943943\n",
      "Validation score: 0.975000\n",
      "Iteration 22, loss = 0.00386205\n",
      "Validation score: 0.979167\n",
      "Iteration 23, loss = 0.00129691\n",
      "Validation score: 0.978500\n",
      "Iteration 24, loss = 0.00204380\n",
      "Validation score: 0.976000\n",
      "Iteration 25, loss = 0.00760607\n",
      "Validation score: 0.971667\n",
      "Iteration 26, loss = 0.01386048\n",
      "Validation score: 0.977667\n",
      "Iteration 27, loss = 0.00812375\n",
      "Validation score: 0.977833\n",
      "Iteration 28, loss = 0.00406633\n",
      "Validation score: 0.977833\n",
      "Iteration 29, loss = 0.00216711\n",
      "Validation score: 0.977667\n",
      "Iteration 30, loss = 0.00346336\n",
      "Validation score: 0.976000\n",
      "Iteration 31, loss = 0.00180158\n",
      "Validation score: 0.978167\n",
      "Iteration 32, loss = 0.00060999\n",
      "Validation score: 0.979667\n",
      "Iteration 33, loss = 0.00050463\n",
      "Validation score: 0.979500\n",
      "Iteration 34, loss = 0.00047575\n",
      "Validation score: 0.979667\n",
      "Iteration 35, loss = 0.00045772\n",
      "Validation score: 0.979667\n",
      "Iteration 36, loss = 0.00044417\n",
      "Validation score: 0.979667\n",
      "Iteration 37, loss = 0.00043342\n",
      "Validation score: 0.979667\n",
      "Iteration 38, loss = 0.00042319\n",
      "Validation score: 0.979833\n",
      "Iteration 39, loss = 0.00041481\n",
      "Validation score: 0.979500\n",
      "Iteration 40, loss = 0.00040616\n",
      "Validation score: 0.979833\n",
      "Iteration 41, loss = 0.00039907\n",
      "Validation score: 0.979833\n",
      "Iteration 42, loss = 0.00039269\n",
      "Validation score: 0.979833\n",
      "Iteration 43, loss = 0.00038568\n",
      "Validation score: 0.980000\n",
      "Iteration 44, loss = 0.00037949\n",
      "Validation score: 0.980000\n",
      "Iteration 45, loss = 0.00037396\n",
      "Validation score: 0.979667\n",
      "Iteration 46, loss = 0.00036779\n",
      "Validation score: 0.979333\n",
      "Iteration 47, loss = 0.00036203\n",
      "Validation score: 0.979500\n",
      "Iteration 48, loss = 0.00035654\n",
      "Validation score: 0.979167\n",
      "Iteration 49, loss = 0.00035137\n",
      "Validation score: 0.979500\n",
      "Iteration 50, loss = 0.00034493\n",
      "Validation score: 0.979333\n",
      "Iteration 51, loss = 0.02975227\n",
      "Validation score: 0.973167\n",
      "Iteration 52, loss = 0.02008823\n",
      "Validation score: 0.975500\n",
      "Iteration 53, loss = 0.00753158\n",
      "Validation score: 0.977667\n",
      "Iteration 54, loss = 0.00292263\n",
      "Validation score: 0.979833\n",
      "Validation score did not improve more than tol=0.000100 for 10 consecutive epochs. Stopping.\n"
     ]
    },
    {
     "data": {
      "text/plain": "MLPClassifier(early_stopping=True, hidden_layer_sizes=(128, 128), max_iter=100,\n              verbose=True)",
      "text/html": "<style>#sk-container-id-1 {color: black;background-color: white;}#sk-container-id-1 pre{padding: 0;}#sk-container-id-1 div.sk-toggleable {background-color: white;}#sk-container-id-1 label.sk-toggleable__label {cursor: pointer;display: block;width: 100%;margin-bottom: 0;padding: 0.3em;box-sizing: border-box;text-align: center;}#sk-container-id-1 label.sk-toggleable__label-arrow:before {content: \"▸\";float: left;margin-right: 0.25em;color: #696969;}#sk-container-id-1 label.sk-toggleable__label-arrow:hover:before {color: black;}#sk-container-id-1 div.sk-estimator:hover label.sk-toggleable__label-arrow:before {color: black;}#sk-container-id-1 div.sk-toggleable__content {max-height: 0;max-width: 0;overflow: hidden;text-align: left;background-color: #f0f8ff;}#sk-container-id-1 div.sk-toggleable__content pre {margin: 0.2em;color: black;border-radius: 0.25em;background-color: #f0f8ff;}#sk-container-id-1 input.sk-toggleable__control:checked~div.sk-toggleable__content {max-height: 200px;max-width: 100%;overflow: auto;}#sk-container-id-1 input.sk-toggleable__control:checked~label.sk-toggleable__label-arrow:before {content: \"▾\";}#sk-container-id-1 div.sk-estimator input.sk-toggleable__control:checked~label.sk-toggleable__label {background-color: #d4ebff;}#sk-container-id-1 div.sk-label input.sk-toggleable__control:checked~label.sk-toggleable__label {background-color: #d4ebff;}#sk-container-id-1 input.sk-hidden--visually {border: 0;clip: rect(1px 1px 1px 1px);clip: rect(1px, 1px, 1px, 1px);height: 1px;margin: -1px;overflow: hidden;padding: 0;position: absolute;width: 1px;}#sk-container-id-1 div.sk-estimator {font-family: monospace;background-color: #f0f8ff;border: 1px dotted black;border-radius: 0.25em;box-sizing: border-box;margin-bottom: 0.5em;}#sk-container-id-1 div.sk-estimator:hover {background-color: #d4ebff;}#sk-container-id-1 div.sk-parallel-item::after {content: \"\";width: 100%;border-bottom: 1px solid gray;flex-grow: 1;}#sk-container-id-1 div.sk-label:hover label.sk-toggleable__label {background-color: #d4ebff;}#sk-container-id-1 div.sk-serial::before {content: \"\";position: absolute;border-left: 1px solid gray;box-sizing: border-box;top: 0;bottom: 0;left: 50%;z-index: 0;}#sk-container-id-1 div.sk-serial {display: flex;flex-direction: column;align-items: center;background-color: white;padding-right: 0.2em;padding-left: 0.2em;position: relative;}#sk-container-id-1 div.sk-item {position: relative;z-index: 1;}#sk-container-id-1 div.sk-parallel {display: flex;align-items: stretch;justify-content: center;background-color: white;position: relative;}#sk-container-id-1 div.sk-item::before, #sk-container-id-1 div.sk-parallel-item::before {content: \"\";position: absolute;border-left: 1px solid gray;box-sizing: border-box;top: 0;bottom: 0;left: 50%;z-index: -1;}#sk-container-id-1 div.sk-parallel-item {display: flex;flex-direction: column;z-index: 1;position: relative;background-color: white;}#sk-container-id-1 div.sk-parallel-item:first-child::after {align-self: flex-end;width: 50%;}#sk-container-id-1 div.sk-parallel-item:last-child::after {align-self: flex-start;width: 50%;}#sk-container-id-1 div.sk-parallel-item:only-child::after {width: 0;}#sk-container-id-1 div.sk-dashed-wrapped {border: 1px dashed gray;margin: 0 0.4em 0.5em 0.4em;box-sizing: border-box;padding-bottom: 0.4em;background-color: white;}#sk-container-id-1 div.sk-label label {font-family: monospace;font-weight: bold;display: inline-block;line-height: 1.2em;}#sk-container-id-1 div.sk-label-container {text-align: center;}#sk-container-id-1 div.sk-container {/* jupyter's `normalize.less` sets `[hidden] { display: none; }` but bootstrap.min.css set `[hidden] { display: none !important; }` so we also need the `!important` here to be able to override the default hidden behavior on the sphinx rendered scikit-learn.org. See: https://github.com/scikit-learn/scikit-learn/issues/21755 */display: inline-block !important;position: relative;}#sk-container-id-1 div.sk-text-repr-fallback {display: none;}</style><div id=\"sk-container-id-1\" class=\"sk-top-container\"><div class=\"sk-text-repr-fallback\"><pre>MLPClassifier(early_stopping=True, hidden_layer_sizes=(128, 128), max_iter=100,\n              verbose=True)</pre><b>In a Jupyter environment, please rerun this cell to show the HTML representation or trust the notebook. <br />On GitHub, the HTML representation is unable to render, please try loading this page with nbviewer.org.</b></div><div class=\"sk-container\" hidden><div class=\"sk-item\"><div class=\"sk-estimator sk-toggleable\"><input class=\"sk-toggleable__control sk-hidden--visually\" id=\"sk-estimator-id-1\" type=\"checkbox\" checked><label for=\"sk-estimator-id-1\" class=\"sk-toggleable__label sk-toggleable__label-arrow\">MLPClassifier</label><div class=\"sk-toggleable__content\"><pre>MLPClassifier(early_stopping=True, hidden_layer_sizes=(128, 128), max_iter=100,\n              verbose=True)</pre></div></div></div></div></div>"
     },
     "execution_count": 7,
     "metadata": {},
     "output_type": "execute_result"
    }
   ],
   "source": [
    "model2 = MLPClassifier(hidden_layer_sizes=(128,128), verbose=True, max_iter=100, early_stopping=True)\n",
    "\n",
    "X_train_2 = X_train.reshape((X_train.shape[0],-1))\n",
    "\n",
    "model2.fit(X_train_2,y_train)"
   ],
   "metadata": {
    "collapsed": false
   }
  },
  {
   "cell_type": "code",
   "execution_count": 8,
   "outputs": [
    {
     "name": "stdout",
     "output_type": "stream",
     "text": [
      "(784,)\n",
      "[9] 9\n"
     ]
    }
   ],
   "source": [
    "X_test_2 = X_test.reshape((X_test.shape[0],-1))\n",
    "\n",
    "print(X_test_2[0].shape)\n",
    "prediction = model2.predict([X_test_2[20]])\n",
    "print(prediction, y_test[20])"
   ],
   "metadata": {
    "collapsed": false
   }
  },
  {
   "cell_type": "code",
   "execution_count": 30,
   "outputs": [
    {
     "data": {
      "text/plain": "0.9805"
     },
     "execution_count": 30,
     "metadata": {},
     "output_type": "execute_result"
    }
   ],
   "source": [
    "model2.score(X_test_2, y_test)"
   ],
   "metadata": {
    "collapsed": false
   }
  },
  {
   "cell_type": "code",
   "execution_count": 31,
   "outputs": [
    {
     "data": {
      "text/plain": "[array([[-1.03743131e-255,  1.05277966e-265, -2.77919387e-263, ...,\n         -9.87812468e-253,  4.01604525e-260,  3.59776474e-259],\n        [ 3.86961043e-263, -2.18473885e-259, -1.76843320e-262, ...,\n          1.47106834e-254, -5.04604895e-260,  4.83150013e-261],\n        [ 7.84000088e-262, -2.88412029e-263,  4.56782638e-256, ...,\n         -5.31235209e-261,  4.63186475e-258,  1.46238261e-254],\n        ...,\n        [ 5.48509416e-259, -1.52806379e-255, -4.15497829e-262, ...,\n         -1.04688600e-262,  4.83811420e-257, -8.42894503e-260],\n        [-2.50588250e-263, -6.87566633e-266,  5.31188199e-265, ...,\n         -2.66446024e-253,  1.35321815e-264,  9.33422960e-258],\n        [-5.61237371e-259, -1.82727598e-259, -7.29632928e-253, ...,\n          5.87642852e-257,  1.09656729e-263,  8.07595530e-253]]),\n array([[ 0.36487661,  0.11227565,  0.06061079, ..., -0.18492413,\n         -0.1167206 , -0.0624161 ],\n        [ 0.05594806, -0.08688931, -0.18887076, ...,  0.09680501,\n          0.07090879,  0.05982286],\n        [-0.1378327 ,  0.18810076,  0.05215901, ..., -0.09608294,\n         -0.09101571,  0.12216502],\n        ...,\n        [ 0.02676784,  0.10446732, -0.08200242, ...,  0.15934532,\n          0.12532356,  0.04729733],\n        [-0.15555908,  0.08019561, -0.02228943, ...,  0.03592523,\n          0.09868067, -0.11484869],\n        [-0.10990368,  0.05337174,  0.0297725 , ..., -0.10417925,\n         -0.02978756, -0.16704939]]),\n array([[-0.40771085, -0.21817376, -0.0258446 , ...,  0.15966777,\n          0.28034301,  0.13896787],\n        [-0.22064619, -0.05978487,  0.35830478, ...,  0.28496441,\n         -0.06022031, -0.61556774],\n        [ 0.16981668,  0.16509823, -0.0603273 , ...,  0.29073131,\n          0.13619526,  0.19776124],\n        ...,\n        [-0.31674638, -0.15468211,  0.14295219, ...,  0.23060483,\n          0.03940588,  0.21006734],\n        [-0.25392973,  0.23732454,  0.0946847 , ...,  0.1449246 ,\n         -0.14503717,  0.143441  ],\n        [ 0.18121728, -0.23695425,  0.05517685, ...,  0.25911031,\n         -0.22743433, -0.03610909]])]"
     },
     "execution_count": 31,
     "metadata": {},
     "output_type": "execute_result"
    }
   ],
   "source": [
    "model2.coefs_"
   ],
   "metadata": {
    "collapsed": false
   }
  },
  {
   "cell_type": "code",
   "execution_count": 32,
   "outputs": [],
   "source": [
    "filename='Neural_Network_MNIST.sav'\n",
    "pickle.dump(model2, open( filename, 'wb'))"
   ],
   "metadata": {
    "collapsed": false
   }
  },
  {
   "cell_type": "code",
   "execution_count": 26,
   "outputs": [],
   "source": [],
   "metadata": {
    "collapsed": false
   }
  },
  {
   "cell_type": "code",
   "execution_count": 29,
   "outputs": [
    {
     "data": {
      "text/plain": "0.1529"
     },
     "execution_count": 29,
     "metadata": {},
     "output_type": "execute_result"
    }
   ],
   "source": [],
   "metadata": {
    "collapsed": false
   }
  },
  {
   "cell_type": "code",
   "execution_count": 20,
   "outputs": [
    {
     "data": {
      "text/plain": "7"
     },
     "execution_count": 20,
     "metadata": {},
     "output_type": "execute_result"
    }
   ],
   "source": [],
   "metadata": {
    "collapsed": false
   }
  },
  {
   "cell_type": "code",
   "execution_count": null,
   "outputs": [],
   "source": [],
   "metadata": {
    "collapsed": false
   }
  }
 ],
 "metadata": {
  "kernelspec": {
   "display_name": "Python 3",
   "language": "python",
   "name": "python3"
  },
  "language_info": {
   "codemirror_mode": {
    "name": "ipython",
    "version": 2
   },
   "file_extension": ".py",
   "mimetype": "text/x-python",
   "name": "python",
   "nbconvert_exporter": "python",
   "pygments_lexer": "ipython2",
   "version": "2.7.6"
  }
 },
 "nbformat": 4,
 "nbformat_minor": 0
}
